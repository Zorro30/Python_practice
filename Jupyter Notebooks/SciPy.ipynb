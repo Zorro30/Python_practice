{
 "cells": [
  {
   "cell_type": "markdown",
   "metadata": {},
   "source": [
    "### SciPy is a collection of mathematical algorithms and convenience functions built on the Numpy extension of Python"
   ]
  },
  {
   "cell_type": "markdown",
   "metadata": {},
   "source": [
    "|Subpackage\t |  Description|\n",
    "|------------|:-----------:|\n",
    "| cluster    |Clustering algorithms|\n",
    "| constants\t | Physical and mathematical constants|\n",
    "|fftpack\t |Fast   Fourier Transform routines|\n",
    "|integrate\t |  Integration and ordinary differential equation solvers|\n",
    "|interpolate |\t   Interpolation and smoothing splines|\n",
    "|io\t         |  Input and Output|\n",
    "|linalg\t     |  Linear algebra|\n",
    "|ndimage\t |      N-dimensional image processing|\n",
    "|odr\t     |Orthogonal distance regression|\n",
    "|optimize\t |  Optimization and root-finding routines|\n",
    "|signal\t     |  Signal processing|\n",
    "|sparse\t     |  Sparse matrices and associated routines|\n",
    "|spatial\t |      Spatial data structures and algorithms|\n",
    "|special\t |      Special functions|\n",
    "|stats\t     |  Statistical distributions and functions|"
   ]
  },
  {
   "cell_type": "code",
   "execution_count": 6,
   "metadata": {},
   "outputs": [],
   "source": [
    "from scipy import linalg, optimize"
   ]
  },
  {
   "cell_type": "code",
   "execution_count": 8,
   "metadata": {},
   "outputs": [],
   "source": [
    "?linalg"
   ]
  },
  {
   "cell_type": "code",
   "execution_count": null,
   "metadata": {},
   "outputs": [],
   "source": []
  }
 ],
 "metadata": {
  "kernelspec": {
   "display_name": "Python 3",
   "language": "python",
   "name": "python3"
  },
  "language_info": {
   "codemirror_mode": {
    "name": "ipython",
    "version": 3
   },
   "file_extension": ".py",
   "mimetype": "text/x-python",
   "name": "python",
   "nbconvert_exporter": "python",
   "pygments_lexer": "ipython3",
   "version": "3.6.5"
  }
 },
 "nbformat": 4,
 "nbformat_minor": 2
}
